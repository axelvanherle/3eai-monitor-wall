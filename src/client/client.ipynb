{
 "cells": [
  {
   "cell_type": "code",
   "execution_count": 2,
   "id": "f3954f65",
   "metadata": {},
   "outputs": [
    {
     "name": "stdin",
     "output_type": "stream",
     "text": [
      "Enter the filename:  test.mp4\n",
      "Enter the destination IP address:  127.0.0.1\n",
      "Enter the port number:  5000\n"
     ]
    },
    {
     "name": "stdout",
     "output_type": "stream",
     "text": [
      "Error sending file: [Errno 111] Connection refused\n",
      "Retrying in 5 seconds (Attempt 1/3)...\n",
      "Error sending file: [Errno 111] Connection refused\n",
      "Retrying in 5 seconds (Attempt 2/3)...\n",
      "Error sending file: [Errno 111] Connection refused\n",
      "Maximum number of attempts reached (3). Exiting.\n"
     ]
    }
   ],
   "source": [
    "import socket\n",
    "import time\n",
    "\n",
    "def get_user_input():\n",
    "    filename = input(\"Enter the filename: \")\n",
    "    ip_address = input(\"Enter the destination IP address: \")\n",
    "    port = int(input(\"Enter the port number: \"))\n",
    "    return filename, ip_address, port\n",
    "\n",
    "def send_file(max_attempts=3):\n",
    "    filename, ip_address, port = get_user_input()\n",
    "\n",
    "    for attempt in range(1, max_attempts + 1):\n",
    "        try:\n",
    "            with open(filename, 'rb') as file:\n",
    "                data = file.read()\n",
    "\n",
    "            with socket.socket(socket.AF_INET, socket.SOCK_STREAM) as s:\n",
    "                s.connect((ip_address, port))\n",
    "                s.sendall(data)\n",
    "\n",
    "            print(f\"File '{filename}' sent successfully to {ip_address}:{port}\")\n",
    "            break  # Exit the loop if the file is sent successfully\n",
    "        except Exception as e:\n",
    "            print(f\"Error sending file: {e}\")\n",
    "            if attempt < max_attempts:\n",
    "                print(f\"Retrying in 5 seconds (Attempt {attempt}/{max_attempts})...\")\n",
    "                time.sleep(5)\n",
    "            else:\n",
    "                print(f\"Maximum number of attempts reached ({max_attempts}). Exiting.\")\n",
    "\n",
    "if __name__ == \"__main__\":\n",
    "    send_file()\n"
   ]
  },
  {
   "cell_type": "code",
   "execution_count": null,
   "id": "129f3a3b",
   "metadata": {},
   "outputs": [],
   "source": []
  }
 ],
 "metadata": {
  "kernelspec": {
   "display_name": "Python 3 (ipykernel)",
   "language": "python",
   "name": "python3"
  },
  "language_info": {
   "codemirror_mode": {
    "name": "ipython",
    "version": 3
   },
   "file_extension": ".py",
   "mimetype": "text/x-python",
   "name": "python",
   "nbconvert_exporter": "python",
   "pygments_lexer": "ipython3",
   "version": "3.11.5"
  }
 },
 "nbformat": 4,
 "nbformat_minor": 5
}
